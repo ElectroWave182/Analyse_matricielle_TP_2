{
 "cells": [
  {
   "cell_type": "code",
   "execution_count": 1,
   "metadata": {
    "collapsed": false
   },
   "outputs": [
    {
     "data": {
      "text/html": [
       "<html>\\(\\displaystyle \\left(\\begin{array}{rr}\n",
       "6 & 9 \\\\\n",
       "9 & 14\n",
       "\\end{array}\\right)\\)</html>"
      ],
      "text/latex": [
       "$\\displaystyle \\left(\\begin{array}{rr}\n",
       "6 & 9 \\\\\n",
       "9 & 14\n",
       "\\end{array}\\right)$"
      ],
      "text/plain": [
       "[ 6  9]\n",
       "[ 9 14]"
      ]
     },
     "execution_count": 1,
     "metadata": {
     },
     "output_type": "execute_result"
    },
    {
     "data": {
      "text/html": [
       "<html>\\(\\displaystyle x^{2} - 20x + 3\\)</html>"
      ],
      "text/latex": [
       "$\\displaystyle x^{2} - 20x + 3$"
      ],
      "text/plain": [
       "x^2 - 20*x + 3"
      ]
     },
     "execution_count": 1,
     "metadata": {
     },
     "output_type": "execute_result"
    }
   ],
   "source": [
    "A = matrix ([\n",
    "    [1, 2, 1],\n",
    "    [2, 3, 1]\n",
    "])\n",
    "B = A.transpose ()\n",
    "C = A * B\n",
    "\n",
    "show (C)\n",
    "show (C.charpoly ())\n"
   ]
  },
  {
   "cell_type": "code",
   "execution_count": 0,
   "metadata": {
    "collapsed": false
   },
   "outputs": [
   ],
   "source": [
    "spectreC =\n",
    "\n",
    "show (spectreC)"
   ]
  },
  {
   "cell_type": "code",
   "execution_count": 0,
   "metadata": {
    "collapsed": false
   },
   "outputs": [
   ],
   "source": [
    "/*\n",
    " * U = vecteurs propres de A en colonne\n",
    " * tV = vecteurs propres de tA en ligne\n",
    " * sigma = valeurs singulières sur la diagonale\n",
    " */"
   ]
  },
  {
   "cell_type": "code",
   "execution_count": 0,
   "metadata": {
    "collapsed": false
   },
   "outputs": [
   ],
   "source": [
    "# Exo 4 : idem avec une autre matrice"
   ]
  }
 ],
 "metadata": {
  "kernelspec": {
   "display_name": "SageMath 9.7",
   "language": "sagemath",
   "metadata": {
    "cocalc": {
     "description": "Open-source mathematical software system",
     "priority": 10,
     "url": "https://www.sagemath.org/"
    }
   },
   "name": "sage-9.7",
   "resource_dir": "/ext/jupyter/kernels/sage-9.7"
  },
  "language_info": {
   "codemirror_mode": {
    "name": "ipython",
    "version": 3
   },
   "file_extension": ".py",
   "mimetype": "text/x-python",
   "name": "python",
   "nbconvert_exporter": "python",
   "pygments_lexer": "ipython3",
   "version": "3.10.5"
  }
 },
 "nbformat": 4,
 "nbformat_minor": 4
}